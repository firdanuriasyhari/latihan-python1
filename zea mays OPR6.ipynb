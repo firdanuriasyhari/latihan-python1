{
 "cells": [
  {
   "cell_type": "code",
   "execution_count": 1,
   "id": "83eb5281-9213-403f-b3d7-1a4ef93404c7",
   "metadata": {},
   "outputs": [
    {
     "name": "stdout",
     "output_type": "stream",
     "text": [
      "b'<?xml version=\"1.0\" encoding=\"UTF-8\" ?>\\n<!DOCTYPE eInfoResult PUBLIC \"-//NLM//DTD einfo 20190110//EN\" \"https://eutils.ncbi.nlm.nih.gov/eutils/dtd/20190110/einfo.dtd\">\\n<eInfoResult>\\n<DbList>\\n\\n\\t<DbName>pubmed</DbName>\\n\\t<DbName>protein</DbName>\\n\\t<DbName>nuccore</DbName>\\n\\t<DbName>ipg</DbName>\\n\\t<DbName>nucleotide</DbName>\\n\\t<DbName>structure</DbName>\\n\\t<DbName>genome</DbName>\\n\\t<DbName>annotinfo</DbName>\\n\\t<DbName>assembly</DbName>\\n\\t<DbName>bioproject</DbName>\\n\\t<DbName>biosample</DbName>\\n\\t<DbName>blastdbinfo</DbName>\\n\\t<DbName>books</DbName>\\n\\t<DbName>cdd</DbName>\\n\\t<DbName>clinvar</DbName>\\n\\t<DbName>gap</DbName>\\n\\t<DbName>gapplus</DbName>\\n\\t<DbName>grasp</DbName>\\n\\t<DbName>dbvar</DbName>\\n\\t<DbName>gene</DbName>\\n\\t<DbName>gds</DbName>\\n\\t<DbName>geoprofiles</DbName>\\n\\t<DbName>homologene</DbName>\\n\\t<DbName>medgen</DbName>\\n\\t<DbName>mesh</DbName>\\n\\t<DbName>ncbisearch</DbName>\\n\\t<DbName>nlmcatalog</DbName>\\n\\t<DbName>omim</DbName>\\n\\t<DbName>orgtrack</DbName>\\n\\t<DbName>pmc</DbName>\\n\\t<DbName>popset</DbName>\\n\\t<DbName>proteinclusters</DbName>\\n\\t<DbName>pcassay</DbName>\\n\\t<DbName>protfam</DbName>\\n\\t<DbName>biosystems</DbName>\\n\\t<DbName>pccompound</DbName>\\n\\t<DbName>pcsubstance</DbName>\\n\\t<DbName>seqannot</DbName>\\n\\t<DbName>snp</DbName>\\n\\t<DbName>sra</DbName>\\n\\t<DbName>taxonomy</DbName>\\n\\t<DbName>biocollections</DbName>\\n\\t<DbName>gtr</DbName>\\n</DbList>\\n\\n</eInfoResult>\\n'\n"
     ]
    }
   ],
   "source": [
    "from Bio import Entrez\n",
    "\n",
    "Entrez.email = \"localuser@localhost.localdomain\" #Mandatory! Can be replaced with your personal email.\n",
    "\n",
    "#creating handle\n",
    "handle = Entrez.einfo() #invoking Bio.Entrez.einfo()\n",
    "print(handle.read())\n",
    "handle.close() #always close your handle after you finish"
   ]
  },
  {
   "cell_type": "code",
   "execution_count": 2,
   "id": "b18ad6bf-154b-4734-9043-fc92581b3f7e",
   "metadata": {},
   "outputs": [
    {
     "name": "stdout",
     "output_type": "stream",
     "text": [
      "{'Count': '5274945', 'RetMax': '20', 'RetStart': '0', 'IdList': ['2209406898', '2209263425', '2209263418', '2209263411', '2209263407', '2209263405', '2209263404', '2209263402', '2209263400', '2209263399', '2209263397', '2209263391', '2209263387', '2209263385', '2209263373', '2209263371', '2209263369', '2209263367', '2209263359', '2209263357'], 'TranslationSet': [{'From': 'zea mays', 'To': '\"Zea mays\"[Organism] OR zea mays[All Fields]'}], 'TranslationStack': [{'Term': '\"Zea mays\"[Organism]', 'Field': 'Organism', 'Count': '4882057', 'Explode': 'Y'}, {'Term': 'zea mays[All Fields]', 'Field': 'All Fields', 'Count': '5274945', 'Explode': 'N'}, 'OR', 'GROUP'], 'QueryTranslation': '\"Zea mays\"[Organism] OR zea mays[All Fields]'}\n"
     ]
    }
   ],
   "source": [
    "#creating handle\n",
    "\n",
    "handle = Entrez.esearch(db=\"nuccore\", term=\"zea mays\")\n",
    "record = Entrez.read(handle)\n",
    "print(record)\n",
    "handle.close() #always close your handle after you finish"
   ]
  },
  {
   "cell_type": "code",
   "execution_count": 3,
   "id": "56590f6c-04e9-4bc8-b333-fc262a905cdf",
   "metadata": {},
   "outputs": [
    {
     "name": "stdout",
     "output_type": "stream",
     "text": [
      "{'Count': '3', 'RetMax': '3', 'RetStart': '0', 'IdList': ['1886304062', '162462844', '63021728'], 'TranslationSet': [{'From': 'zea mays', 'To': '\"Zea mays\"[Organism] OR zea mays[All Fields]'}], 'TranslationStack': [{'Term': '\"Zea mays\"[Organism]', 'Field': 'Organism', 'Count': '4882057', 'Explode': 'Y'}, {'Term': 'zea mays[All Fields]', 'Field': 'All Fields', 'Count': '5274945', 'Explode': 'N'}, 'OR', 'GROUP', {'Term': 'OPR6[All Fields]', 'Field': 'All Fields', 'Count': '24', 'Explode': 'N'}, 'AND', 'GROUP'], 'QueryTranslation': '(\"Zea mays\"[Organism] OR zea mays[All Fields]) AND OPR6[All Fields]'}\n"
     ]
    }
   ],
   "source": [
    "#creating handle\n",
    "\n",
    "handle = Entrez.esearch(db=\"nuccore\", term=\"zea mays OPR6\")\n",
    "record = Entrez.read(handle)\n",
    "print(record)\n",
    "handle.close() #always close your handle after you finish"
   ]
  },
  {
   "cell_type": "code",
   "execution_count": 4,
   "id": "4c587525-1aa0-48e0-aff8-7aabf0e4abeb",
   "metadata": {},
   "outputs": [
    {
     "name": "stdout",
     "output_type": "stream",
     "text": [
      ">AY921643.1 Zea mays 12-oxo-phytodienoic acid reductase (OPR6) mRNA, complete cds\n",
      "CATCTGTTTAGCCAAGCTGTGGCCAACCTCTGCGAGGAATGGAGATGGAGTCGACTCCTCTCTTGACACC\n",
      "ATACAAGATGGGCGATTTCAACCTGGCACACAGGGTTGTGCTGGCGCCGCTGACGAGGTGCCGGGCGTTC\n",
      "GGGAACGTGCCGCAGCCGGAGCACATGGCTCTCTACTACCGCCAGCGGGCGACGCCCGGCGGCTTCCTCA\n",
      "TCGCCGAGGCCTGCGCCGTGTCGGAGAGCGCGCGCGGGTACCCGGACGTTCCGGGGCTGTGGACCCACCA\n",
      "ACAGGTCGAGGCCTGGAAGCCGATCGTCGACGCCGTCCACGCCAGCGGTGCCGTCTTCTTCGCCCAGCTC\n",
      "TGGCACACCGGCCGGGCCTCCCCCTCAGAATTCCAACCAAATGGGCAGGCACCGATCTCTAGCACGGACA\n",
      "AGCAAATCCCAGCACAGGTGAACCATTCCGGTGACGTCAACACGTTCGCGGTGCCTCGGAGACTAGAGAC\n",
      "AGAGGAGATACCACACGTCGTCAATGACTTCCGGGTTGCCGCCAGAAACGCCATCAAAGCAGGCTTTGAT\n",
      "GGAGTGGAGATCCACGCGGCAAACGGGTACCTGTTCGATCAGTTCATGAAGGACAGCACCAATGACCGAG\n",
      "ACGACTCCTACGGGGGCAGCTTGGAGAACCGGTGCCGTTTCACAGCCGAGGTGATGGCAGCCGTCGCGGA\n",
      "CGAGGTCGGTGCCAACCGCCTCGGTGTGCGCCTCTCTCCGTTCGCGGATTATATGGACTGCCACGACTCC\n",
      "AACCCAGAGGCGCTCGCGCTTCATGTCATCGACGAGACGCTGAACCCGCTCGGCGTGCTTTACTGCCACA\n",
      "TGGTAGAGCCAAGGATGCGGGTGAACCCAGACGACGGTATTATGACTCTCGAGCACATGCTGCTACCGTT\n",
      "CAGGAGGGCGTTTCGCGGGACGTTCATTGCTAATGGAGGCTACGACCGTGAGGAAGGCAATGACGCCATT\n",
      "GCCCGTGGCCGTGGCTATGCAGATCTCATCGCATACGGCCGGATATTCCTTGCCAACCCGGACCTTCCGA\n",
      "TGCGTTTTGCCAAGAATGCCCCGCTGAACAAGTATGATAGGAGCACCTTCTATACCTCTGATCCGGTGGT\n",
      "TGGGTACACAGATTATCCATTTCTCGATCAACTCTAGGATGATTGGCTTATAAACAATTTCCCCACCTGG\n",
      "AGTACTATTTTGACCTTAAAATAAAATGAGTGTCACTATAAAAAAAAAAAAAAAAAAAAAAAAAAAAAAA\n",
      "AAAAAAA\n",
      "\n",
      "\n"
     ]
    }
   ],
   "source": [
    "efetch_handle = Entrez.efetch(db=\"nuccore\", id=\"63021728\", rettype=\"fasta\", retmode=\"text\")\n",
    "gbrecord = efetch_handle.read()\n",
    "print(gbrecord)"
   ]
  },
  {
   "cell_type": "code",
   "execution_count": 5,
   "id": "57db8f96-cbeb-4170-8afa-35bece1d4c42",
   "metadata": {},
   "outputs": [
    {
     "name": "stdout",
     "output_type": "stream",
     "text": [
      "FASTA Download\n"
     ]
    }
   ],
   "source": [
    "import os\n",
    "\n",
    "#creating EFetch handle\n",
    "filename = \"Zea mays OPR6.fasta\" #up to you, but FASTA files always use *.fasta or *.fas\n",
    "\n",
    "#creating EFetch handle\n",
    "if not os.path.isfile(filename):\n",
    "    # Downloading file...\n",
    "    efetch_handle = Entrez.efetch(db=\"nuccore\", id=\"63021728\", rettype=\"fasta\", retmode=\"text\")\n",
    "    output_file_handle = open(filename, \"w\")\n",
    "    output_file_handle.write(efetch_handle.read())\n",
    "    output_file_handle.close()\n",
    "    efetch_handle.close()\n",
    "    print(\"FASTA Download\")"
   ]
  },
  {
   "cell_type": "code",
   "execution_count": 6,
   "id": "5914136f-e54c-42af-a6ac-c4931f6b0625",
   "metadata": {},
   "outputs": [
    {
     "name": "stdout",
     "output_type": "stream",
     "text": [
      "GB Downloaded\n"
     ]
    }
   ],
   "source": [
    "#creating EFetch handle\n",
    "filename = \"Zea mays OPR6.gbk\" #up to you, but Genbank files always use *.gb or *.gbk\n",
    "\n",
    "#creating EFetch handle\n",
    "if not os.path.isfile(filename):\n",
    "    # Downloading file...\n",
    "    efetch_handle = Entrez.efetch(db=\"nuccore\", id=\"63021728\", rettype=\"gb\", retmode=\"text\")\n",
    "    output_file_handle = open(filename, \"w\")\n",
    "    output_file_handle.write(efetch_handle.read())\n",
    "    output_file_handle.close()\n",
    "    efetch_handle.close()\n",
    "    print(\"GB Downloaded\")"
   ]
  },
  {
   "cell_type": "code",
   "execution_count": 9,
   "id": "a431c280-1ec0-4532-affa-041c41a95db2",
   "metadata": {},
   "outputs": [
    {
     "name": "stdout",
     "output_type": "stream",
     "text": [
      ">OPR6|Zea mays 12-oxo-phytodienoic acid reductase (OPR6) mRNA, complete cds\n",
      "ATGGAGATGGAGTCGACTCCTCTCTTGACACCATACAAGATGGGCGATTTCAACCTGGCACACAGGGTTGTGCTGGCGCCGCTGACGAGGTGCCGGGCGTTCGGGAACGTGCCGCAGCCGGAGCACATGGCTCTCTACTACCGCCAGCGGGCGACGCCCGGCGGCTTCCTCATCGCCGAGGCCTGCGCCGTGTCGGAGAGCGCGCGCGGGTACCCGGACGTTCCGGGGCTGTGGACCCACCAACAGGTCGAGGCCTGGAAGCCGATCGTCGACGCCGTCCACGCCAGCGGTGCCGTCTTCTTCGCCCAGCTCTGGCACACCGGCCGGGCCTCCCCCTCAGAATTCCAACCAAATGGGCAGGCACCGATCTCTAGCACGGACAAGCAAATCCCAGCACAGGTGAACCATTCCGGTGACGTCAACACGTTCGCGGTGCCTCGGAGACTAGAGACAGAGGAGATACCACACGTCGTCAATGACTTCCGGGTTGCCGCCAGAAACGCCATCAAAGCAGGCTTTGATGGAGTGGAGATCCACGCGGCAAACGGGTACCTGTTCGATCAGTTCATGAAGGACAGCACCAATGACCGAGACGACTCCTACGGGGGCAGCTTGGAGAACCGGTGCCGTTTCACAGCCGAGGTGATGGCAGCCGTCGCGGACGAGGTCGGTGCCAACCGCCTCGGTGTGCGCCTCTCTCCGTTCGCGGATTATATGGACTGCCACGACTCCAACCCAGAGGCGCTCGCGCTTCATGTCATCGACGAGACGCTGAACCCGCTCGGCGTGCTTTACTGCCACATGGTAGAGCCAAGGATGCGGGTGAACCCAGACGACGGTATTATGACTCTCGAGCACATGCTGCTACCGTTCAGGAGGGCGTTTCGCGGGACGTTCATTGCTAATGGAGGCTACGACCGTGAGGAAGGCAATGACGCCATTGCCCGTGGCCGTGGCTATGCAGATCTCATCGCATACGGCCGGATATTCCTTGCCAACCCGGACCTTCCGATGCGTTTTGCCAAGAATGCCCCGCTGAACAAGTATGATAGGAGCACCTTCTATACCTCTGATCCGGTGGTTGGGTACACAGATTATCCATTTCTCGATCAACTCTAG\n"
     ]
    }
   ],
   "source": [
    "from Bio import SeqIO\n",
    "\n",
    "GoI = \"OPR6\" #change \"OPR6\" here with your GoI\n",
    "\n",
    "for genome in SeqIO.parse(\"Zea mays OPR6.gbk\",\"genbank\"):\n",
    "    for gene in genome.features:\n",
    "        if gene.type != \"CDS\":\n",
    "            continue\n",
    "        if \"gene\" not in gene.qualifiers:\n",
    "            continue\n",
    "        if GoI not in gene.qualifiers[\"gene\"][0]:\n",
    "            continue\n",
    "        gene_seq = gene.extract(genome.seq)\n",
    "\n",
    "GoI_fasta = \">%s|%s\\n%s\" % (GoI, genome.description, gene_seq)\n",
    "print(GoI_fasta)"
   ]
  },
  {
   "cell_type": "code",
   "execution_count": 13,
   "id": "b6c9d2cc-bfc7-48d3-b57f-7df48c04cd3f",
   "metadata": {},
   "outputs": [],
   "source": [
    "from Bio import SeqIO\n",
    "\n",
    "GoI = \"OPR6\" \n",
    "\n",
    "for genome in SeqIO.parse(\"Zea mays OPR6.gbk\",\"genbank\"):\n",
    "    for gene in genome.features:\n",
    "        if gene.type != \"CDS\":\n",
    "            continue\n",
    "        if \"gene\" not in gene.qualifiers:\n",
    "            continue\n",
    "        if GoI not in gene.qualifiers[\"gene\"][0]:\n",
    "            continue\n",
    "    gene_seq = gene.extract(genome.seq)\n",
    "\n",
    "GoI_fasta = \">%s|%s\\n%s\" % (GoI, genome.description, gene_seq)\n",
    "with open (\"GoI fasta.fasta\",\"w\") as f:\n",
    "    f.write(GoI_fasta)"
   ]
  },
  {
   "cell_type": "code",
   "execution_count": null,
   "id": "cf92a8bd-c848-4b4e-8b9c-ad8586943af5",
   "metadata": {},
   "outputs": [],
   "source": []
  }
 ],
 "metadata": {
  "kernelspec": {
   "display_name": "Python 3 (ipykernel)",
   "language": "python",
   "name": "python3"
  },
  "language_info": {
   "codemirror_mode": {
    "name": "ipython",
    "version": 3
   },
   "file_extension": ".py",
   "mimetype": "text/x-python",
   "name": "python",
   "nbconvert_exporter": "python",
   "pygments_lexer": "ipython3",
   "version": "3.9.7"
  }
 },
 "nbformat": 4,
 "nbformat_minor": 5
}
